{
 "cells": [
  {
   "cell_type": "code",
   "execution_count": 736,
   "id": "driven-silver",
   "metadata": {},
   "outputs": [],
   "source": [
    "import pandas as pd\n",
    "import numpy as np\n",
    "import seaborn as sns\n",
    "import matplotlib.pyplot as plt\n",
    "import PIL\n",
    "import os\n",
    "# Comment this if the data visualisations doesn't work on your side\n",
    "%matplotlib inline\n",
    "\n",
    "plt.style.use('bmh')"
   ]
  },
  {
   "cell_type": "code",
   "execution_count": 737,
   "id": "stylish-heritage",
   "metadata": {},
   "outputs": [
    {
     "name": "stdout",
     "output_type": "stream",
     "text": [
      "Pillow Version: 8.1.0\n"
     ]
    }
   ],
   "source": [
    "\n",
    "print('Pillow Version:', PIL.__version__)"
   ]
  },
  {
   "cell_type": "code",
   "execution_count": 738,
   "id": "occupied-pearl",
   "metadata": {},
   "outputs": [
    {
     "name": "stdout",
     "output_type": "stream",
     "text": [
      "JPEG\n",
      "RGB\n",
      "(64, 64)\n"
     ]
    }
   ],
   "source": [
    "from PIL import Image,ImageEnhance,ImageFilter,ImageOps\n",
    "image=Image.open('training/training/background/displayPanel_0_flip_blur_d3.jpg')\n",
    "print(image.format)\n",
    "print(image.mode)\n",
    "print(image.size)\n",
    "image.show()"
   ]
  },
  {
   "cell_type": "code",
   "execution_count": 739,
   "id": "cellular-christian",
   "metadata": {},
   "outputs": [
    {
     "name": "stdout",
     "output_type": "stream",
     "text": [
      "Imgs:  4450\n",
      "tokens:  4450\n"
     ]
    }
   ],
   "source": [
    "#Images with no characters: label=0\n",
    "#Images with Hindi characters label=1\n",
    "X_train,Y_train=[],[]\n",
    "BG_path=r\"C:\\Users\\ADITYA\\Desktop\\AI\\Dsets\\NVIDIA\\training\\training\\background\"\n",
    "files=os.listdir(BG_path)\n",
    "valid_images = [\".jpg\",\".gif\",\".png\",\".tga\"]\n",
    "for f in os.listdir(BG_path):\n",
    "    ext = os.path.splitext(f)[1]\n",
    "    if ext.lower() not in valid_images:\n",
    "        continue\n",
    "    im=Image.open(os.path.join(BG_path,f))\n",
    "    #im=im.convert(\"L\")\n",
    "    X_train.append((im.copy()))\n",
    "    Y_train.append(0)\n",
    "print(\"Imgs: \",len(X_train))\n",
    "print(\"tokens: \",len(Y_train))"
   ]
  },
  {
   "cell_type": "code",
   "execution_count": 740,
   "id": "similar-medline",
   "metadata": {},
   "outputs": [
    {
     "name": "stdout",
     "output_type": "stream",
     "text": [
      "Imgs:  5875\n",
      "tokens:  5875\n"
     ]
    }
   ],
   "source": [
    "HC_path=r\"C:\\Users\\ADITYA\\Desktop\\AI\\Dsets\\NVIDIA\\training\\training\\hi\"\n",
    "files=os.listdir(HC_path)\n",
    "valid_images = [\".jpg\",\".gif\",\".png\",\".tga\"]\n",
    "for f in os.listdir(HC_path):\n",
    "    ext = os.path.splitext(f)[1]\n",
    "    if ext.lower() not in valid_images:\n",
    "        continue\n",
    "    im=Image.open(os.path.join(HC_path,f))\n",
    "    #im=im.convert(\"L\")\n",
    "    X_train.append((im.copy()))\n",
    "    Y_train.append(1)\n",
    "print(\"Imgs: \",len(X_train))\n",
    "print(\"tokens: \",len(Y_train))"
   ]
  },
  {
   "cell_type": "code",
   "execution_count": 741,
   "id": "faced-square",
   "metadata": {},
   "outputs": [
    {
     "name": "stderr",
     "output_type": "stream",
     "text": [
      "C:\\Users\\ADITYA\\anaconda3\\envs\\world\\lib\\site-packages\\seaborn\\_decorators.py:43: FutureWarning: Pass the following variable as a keyword arg: x. From version 0.12, the only valid positional argument will be `data`, and passing other arguments without an explicit keyword will result in an error or misinterpretation.\n",
      "  FutureWarning\n"
     ]
    },
    {
     "data": {
      "text/plain": [
       "<AxesSubplot:ylabel='count'>"
      ]
     },
     "execution_count": 741,
     "metadata": {},
     "output_type": "execute_result"
    },
    {
     "data": {
      "image/png": "[encoded data removed]",
      "text/plain": [
       "<Figure size 432x288 with 1 Axes>"
      ]
     },
     "metadata": {
      "needs_background": "light"
     },
     "output_type": "display_data"
    }
   ],
   "source": [
    "sns.countplot(Y_train)\n",
    "#images containing characters outnumbered 4 to 1 Augmentation?"
   ]
  },
  {
   "cell_type": "code",
   "execution_count": 742,
   "id": "instrumental-firmware",
   "metadata": {},
   "outputs": [
    {
     "name": "stdout",
     "output_type": "stream",
     "text": [
      "(64, 64)\n",
      "RGB\n"
     ]
    }
   ],
   "source": [
    "print(X_train[0].size)\n",
    "print(X_train[0].mode)"
   ]
  },
  {
   "cell_type": "code",
   "execution_count": 743,
   "id": "synthetic-grace",
   "metadata": {},
   "outputs": [],
   "source": [
    "import tensorflow as tf\n",
    "for x in X_train:\n",
    "    x=(np.array(x.copy()).flatten())"
   ]
  },
  {
   "cell_type": "code",
   "execution_count": 744,
   "id": "signed-secretariat",
   "metadata": {},
   "outputs": [
    {
     "data": {
      "text/plain": [
       "PIL.Image.Image"
      ]
     },
     "execution_count": 744,
     "metadata": {},
     "output_type": "execute_result"
    }
   ],
   "source": [
    "type(X_train[0])"
   ]
  },
  {
   "cell_type": "code",
   "execution_count": 745,
   "id": "stupid-triple",
   "metadata": {},
   "outputs": [
    {
     "name": "stderr",
     "output_type": "stream",
     "text": [
      "C:\\Users\\ADITYA\\anaconda3\\envs\\world\\lib\\site-packages\\seaborn\\_decorators.py:43: FutureWarning: Pass the following variable as a keyword arg: x. From version 0.12, the only valid positional argument will be `data`, and passing other arguments without an explicit keyword will result in an error or misinterpretation.\n",
      "  FutureWarning\n"
     ]
    },
    {
     "data": {
      "text/plain": [
       "<AxesSubplot:ylabel='count'>"
      ]
     },
     "execution_count": 745,
     "metadata": {},
     "output_type": "execute_result"
    },
    {
     "data": {
      "image/png": "[encoded data removed]",
      "text/plain": [
       "<Figure size 432x288 with 1 Axes>"
      ]
     },
     "metadata": {
      "needs_background": "light"
     },
     "output_type": "display_data"
    }
   ],
   "source": [
    "sns.countplot(Y_train)"
   ]
  },
  {
   "cell_type": "code",
   "execution_count": 746,
   "id": "painted-longitude",
   "metadata": {},
   "outputs": [],
   "source": [
    "for i in range(len(Y_train)):\n",
    "    if Y_train[i]==1:\n",
    "        X_train.append((X_train[i].rotate(45)))\n",
    "        Y_train.append(1)"
   ]
  },
  {
   "cell_type": "code",
   "execution_count": 747,
   "id": "fuzzy-cleaner",
   "metadata": {},
   "outputs": [
    {
     "name": "stderr",
     "output_type": "stream",
     "text": [
      "C:\\Users\\ADITYA\\anaconda3\\envs\\world\\lib\\site-packages\\seaborn\\_decorators.py:43: FutureWarning: Pass the following variable as a keyword arg: x. From version 0.12, the only valid positional argument will be `data`, and passing other arguments without an explicit keyword will result in an error or misinterpretation.\n",
      "  FutureWarning\n"
     ]
    },
    {
     "data": {
      "text/plain": [
       "<AxesSubplot:ylabel='count'>"
      ]
     },
     "execution_count": 747,
     "metadata": {},
     "output_type": "execute_result"
    },
    {
     "data": {
      "image/png": "[encoded data removed]",
      "text/plain": [
       "<Figure size 432x288 with 1 Axes>"
      ]
     },
     "metadata": {
      "needs_background": "light"
     },
     "output_type": "display_data"
    }
   ],
   "source": [
    "sns.countplot(Y_train)"
   ]
  },
  {
   "cell_type": "code",
   "execution_count": 748,
   "id": "naked-italy",
   "metadata": {},
   "outputs": [],
   "source": [
    "for i in range(len(Y_train)):\n",
    "    if Y_train[i]==1:\n",
    "        X_train.append((X_train[i].transpose(Image.FLIP_TOP_BOTTOM)))\n",
    "        Y_train.append(1)"
   ]
  },
  {
   "cell_type": "code",
   "execution_count": 749,
   "id": "global-creativity",
   "metadata": {},
   "outputs": [
    {
     "name": "stderr",
     "output_type": "stream",
     "text": [
      "C:\\Users\\ADITYA\\anaconda3\\envs\\world\\lib\\site-packages\\seaborn\\_decorators.py:43: FutureWarning: Pass the following variable as a keyword arg: x. From version 0.12, the only valid positional argument will be `data`, and passing other arguments without an explicit keyword will result in an error or misinterpretation.\n",
      "  FutureWarning\n"
     ]
    },
    {
     "data": {
      "text/plain": [
       "<AxesSubplot:ylabel='count'>"
      ]
     },
     "execution_count": 749,
     "metadata": {},
     "output_type": "execute_result"
    },
    {
     "data": {
      "image/png": "[encoded data removed]",
      "text/plain": [
       "<Figure size 432x288 with 1 Axes>"
      ]
     },
     "metadata": {
      "needs_background": "light"
     },
     "output_type": "display_data"
    }
   ],
   "source": [
    "sns.countplot(Y_train)"
   ]
  },
  {
   "cell_type": "code",
   "execution_count": 750,
   "id": "unlimited-abraham",
   "metadata": {},
   "outputs": [
    {
     "data": {
      "text/plain": [
       "PIL.Image.Image"
      ]
     },
     "execution_count": 750,
     "metadata": {},
     "output_type": "execute_result"
    }
   ],
   "source": [
    "type(X_train[0])"
   ]
  },
  {
   "cell_type": "code",
   "execution_count": 751,
   "id": "adjustable-merit",
   "metadata": {},
   "outputs": [
    {
     "name": "stdout",
     "output_type": "stream",
     "text": [
      "10150\n",
      "10150\n"
     ]
    }
   ],
   "source": [
    "print(len(X_train))\n",
    "print(len(Y_train))"
   ]
  },
  {
   "cell_type": "code",
   "execution_count": 752,
   "id": "educational-arrangement",
   "metadata": {},
   "outputs": [],
   "source": [
    "test=X_train[1]"
   ]
  },
  {
   "cell_type": "code",
   "execution_count": 753,
   "id": "verified-honey",
   "metadata": {},
   "outputs": [],
   "source": [
    "#test.show()"
   ]
  },
  {
   "cell_type": "code",
   "execution_count": 754,
   "id": "disabled-dictionary",
   "metadata": {},
   "outputs": [],
   "source": [
    "test=ImageEnhance.Sharpness(test)\n",
    "test.enhance(6).show()\n"
   ]
  },
  {
   "cell_type": "code",
   "execution_count": 755,
   "id": "better-bridal",
   "metadata": {},
   "outputs": [],
   "source": [
    "test_hi=[]\n",
    "for i in range(len(Y_train)):\n",
    "    if(Y_train[i]==1):\n",
    "        test_hi.append(X_train[i])"
   ]
  },
  {
   "cell_type": "code",
   "execution_count": 756,
   "id": "viral-yacht",
   "metadata": {},
   "outputs": [],
   "source": [
    "#test_hi[0].show()"
   ]
  },
  {
   "cell_type": "code",
   "execution_count": 757,
   "id": "excessive-berry",
   "metadata": {},
   "outputs": [],
   "source": [
    "work_with=test_hi[0]\n",
    "work_with=ImageEnhance.Sharpness(work_with)\n",
    "#work_with.enhance(6).show()####Seems fine....\n",
    "result=work_with.enhance(6)"
   ]
  },
  {
   "cell_type": "code",
   "execution_count": 758,
   "id": "demographic-diary",
   "metadata": {},
   "outputs": [],
   "source": [
    "for_bright=ImageEnhance.Brightness(result)\n",
    "#for_bright.enhance(5).show()\n",
    "result=for_bright.enhance(5)"
   ]
  },
  {
   "cell_type": "code",
   "execution_count": 759,
   "id": "million-mention",
   "metadata": {},
   "outputs": [],
   "source": [
    "result_grey = result.convert('L')\n",
    "#result_grey.show()## Is required can c improv...."
   ]
  },
  {
   "cell_type": "code",
   "execution_count": 760,
   "id": "comic-festival",
   "metadata": {},
   "outputs": [],
   "source": [
    "for i in range(len(X_train)):\n",
    "    X_train[i]=ImageEnhance.Sharpness(X_train[i])\n",
    "    #x.enhance(6).show()####Seems fine....\n",
    "    X_train[i]=X_train[i].enhance(6)\n",
    "for i in range(len(X_train)):\n",
    "    X_train[i]=ImageEnhance.Brightness(X_train[i])\n",
    "    #x.enhance(6).show()####Seems fine....\n",
    "    X_train[i]=X_train[i].enhance(5)"
   ]
  },
  {
   "cell_type": "code",
   "execution_count": 761,
   "id": "ecological-differential",
   "metadata": {},
   "outputs": [],
   "source": [
    "#X_train[i].show()"
   ]
  },
  {
   "cell_type": "code",
   "execution_count": 762,
   "id": "intimate-mountain",
   "metadata": {},
   "outputs": [
    {
     "data": {
      "text/plain": [
       "(64, 64)"
      ]
     },
     "execution_count": 762,
     "metadata": {},
     "output_type": "execute_result"
    }
   ],
   "source": [
    "images=[]\n",
    "for x in X_train:\n",
    "    x=x.convert(\"L\")\n",
    "    images.append(np.array(x.copy()))\n",
    "images[0].shape"
   ]
  },
  {
   "cell_type": "code",
   "execution_count": 763,
   "id": "operating-worker",
   "metadata": {},
   "outputs": [
    {
     "data": {
      "text/plain": [
       "array([[1., 1., 1., ..., 1., 1., 1.],\n",
       "       [1., 1., 1., ..., 1., 1., 1.],\n",
       "       [1., 1., 1., ..., 1., 1., 1.],\n",
       "       ...,\n",
       "       [1., 1., 1., ..., 1., 1., 1.],\n",
       "       [1., 1., 1., ..., 1., 1., 1.],\n",
       "       [1., 1., 1., ..., 1., 1., 1.]], dtype=float32)"
      ]
     },
     "execution_count": 763,
     "metadata": {},
     "output_type": "execute_result"
    }
   ],
   "source": [
    "images[0].astype('float32')/255"
   ]
  },
  {
   "cell_type": "code",
   "execution_count": 764,
   "id": "ambient-sweet",
   "metadata": {},
   "outputs": [],
   "source": [
    "for i in range(len(images)):\n",
    "    images[i]=images[i].astype('float32')/255"
   ]
  },
  {
   "cell_type": "code",
   "execution_count": 765,
   "id": "detailed-commercial",
   "metadata": {},
   "outputs": [],
   "source": [
    "#images\n",
    "train_data=images"
   ]
  },
  {
   "cell_type": "code",
   "execution_count": 766,
   "id": "electronic-specialist",
   "metadata": {},
   "outputs": [],
   "source": [
    "import tensorflow as tf\n",
    "\n",
    "from tensorflow.keras import datasets, layers, models,utils\n",
    "import matplotlib.pyplot as plt"
   ]
  },
  {
   "cell_type": "code",
   "execution_count": 767,
   "id": "finite-thermal",
   "metadata": {},
   "outputs": [],
   "source": [
    "model = models.Sequential()\n",
    "model.add(layers.Conv2D(32, (3, 3), activation='relu', input_shape=(64, 64, 1)))\n",
    "model.add(layers.MaxPooling2D((2, 2)))\n",
    "model.add(layers.Conv2D(64, (3, 3), activation='relu'))\n",
    "model.add(layers.MaxPooling2D((2, 2)))\n",
    "model.add(layers.Conv2D(64, (3, 3), activation='relu'))\n",
    "model.add(layers.Flatten())\n",
    "model.add(layers.Dense(512, activation='relu'))\n",
    "model.add(layers.Dense(1,activation='sigmoid'))"
   ]
  },
  {
   "cell_type": "code",
   "execution_count": 768,
   "id": "authorized-therapist",
   "metadata": {},
   "outputs": [
    {
     "name": "stdout",
     "output_type": "stream",
     "text": [
      "Model: \"sequential_13\"\n",
      "_________________________________________________________________\n",
      "Layer (type)                 Output Shape              Param #   \n",
      "=================================================================\n",
      "conv2d_39 (Conv2D)           (None, 62, 62, 32)        320       \n",
      "_________________________________________________________________\n",
      "max_pooling2d_26 (MaxPooling (None, 31, 31, 32)        0         \n",
      "_________________________________________________________________\n",
      "conv2d_40 (Conv2D)           (None, 29, 29, 64)        18496     \n",
      "_________________________________________________________________\n",
      "max_pooling2d_27 (MaxPooling (None, 14, 14, 64)        0         \n",
      "_________________________________________________________________\n",
      "conv2d_41 (Conv2D)           (None, 12, 12, 64)        36928     \n",
      "_________________________________________________________________\n",
      "flatten_13 (Flatten)         (None, 9216)              0         \n",
      "_________________________________________________________________\n",
      "dense_24 (Dense)             (None, 512)               4719104   \n",
      "_________________________________________________________________\n",
      "dense_25 (Dense)             (None, 1)                 513       \n",
      "=================================================================\n",
      "Total params: 4,775,361\n",
      "Trainable params: 4,775,361\n",
      "Non-trainable params: 0\n",
      "_________________________________________________________________\n"
     ]
    }
   ],
   "source": [
    "model.summary()"
   ]
  },
  {
   "cell_type": "code",
   "execution_count": 769,
   "id": "ranging-smell",
   "metadata": {},
   "outputs": [],
   "source": [
    "model.compile(optimizer='adam',\n",
    "              loss='binary_crossentropy',\n",
    "              metrics=['accuracy'])"
   ]
  },
  {
   "cell_type": "code",
   "execution_count": 770,
   "id": "global-stereo",
   "metadata": {},
   "outputs": [],
   "source": [
    "import sklearn\n",
    "from sklearn.model_selection import train_test_split\n",
    "x_train, x_val, y_train, y_val = train_test_split(images, Y_train, test_size=0.15, random_state=42,shuffle=True)"
   ]
  },
  {
   "cell_type": "code",
   "execution_count": 771,
   "id": "posted-convenience",
   "metadata": {},
   "outputs": [
    {
     "name": "stdout",
     "output_type": "stream",
     "text": [
      "8627 8627\n",
      "1523 1523\n"
     ]
    }
   ],
   "source": [
    "\n",
    "print(len(x_train),len(y_train))\n",
    "print(len(x_val),len(y_val))"
   ]
  },
  {
   "cell_type": "code",
   "execution_count": 772,
   "id": "weird-unknown",
   "metadata": {},
   "outputs": [],
   "source": [
    "x_train=np.array(x_train).reshape(-1, 64, 64, 1)\n",
    "x_val=np.array(x_val).reshape(-1, 64, 64, 1)"
   ]
  },
  {
   "cell_type": "code",
   "execution_count": 773,
   "id": "awful-pride",
   "metadata": {},
   "outputs": [],
   "source": [
    "#y_train = tf.keras.utils.to_categorical(y_train)\n",
    "#y_val = tf.keras.utils.to_categorical(y_val)"
   ]
  },
  {
   "cell_type": "code",
   "execution_count": 774,
   "id": "exciting-secret",
   "metadata": {},
   "outputs": [
    {
     "data": {
      "text/plain": [
       "(8627, 64, 64, 1)"
      ]
     },
     "execution_count": 774,
     "metadata": {},
     "output_type": "execute_result"
    }
   ],
   "source": [
    "x_train.shape"
   ]
  },
  {
   "cell_type": "code",
   "execution_count": 775,
   "id": "corporate-carolina",
   "metadata": {},
   "outputs": [
    {
     "data": {
      "text/plain": [
       "numpy.ndarray"
      ]
     },
     "execution_count": 775,
     "metadata": {},
     "output_type": "execute_result"
    }
   ],
   "source": [
    "type(x_train)"
   ]
  },
  {
   "cell_type": "code",
   "execution_count": 776,
   "id": "demographic-smoke",
   "metadata": {},
   "outputs": [
    {
     "data": {
      "text/plain": [
       "numpy.ndarray"
      ]
     },
     "execution_count": 776,
     "metadata": {},
     "output_type": "execute_result"
    }
   ],
   "source": [
    "y_train=np.array(y_train).astype('int32')\n",
    "y_val=np.array(y_val).astype('int32')\n",
    "type(y_train)"
   ]
  },
  {
   "cell_type": "code",
   "execution_count": 777,
   "id": "collective-section",
   "metadata": {},
   "outputs": [
    {
     "name": "stdout",
     "output_type": "stream",
     "text": [
      "(8627, 64, 64, 1) float32\n",
      "(8627,) int32\n"
     ]
    }
   ],
   "source": [
    "print(x_train.shape, x_train.dtype)\n",
    "print(y_train.shape, y_train.dtype)"
   ]
  },
  {
   "cell_type": "code",
   "execution_count": 778,
   "id": "competitive-british",
   "metadata": {},
   "outputs": [
    {
     "name": "stdout",
     "output_type": "stream",
     "text": [
      "Train on 8627 samples, validate on 1523 samples\n",
      "Epoch 1/10\n",
      "8627/8627 [==============================] - 3s 292us/sample - loss: 0.3232 - accuracy: 0.8606 - val_loss: 0.2000 - val_accuracy: 0.9251\n",
      "Epoch 2/10\n",
      "8627/8627 [==============================] - 2s 210us/sample - loss: 0.1817 - accuracy: 0.9327 - val_loss: 0.1629 - val_accuracy: 0.9383\n",
      "Epoch 3/10\n",
      "8627/8627 [==============================] - 2s 215us/sample - loss: 0.1544 - accuracy: 0.9426 - val_loss: 0.2465 - val_accuracy: 0.9396\n",
      "Epoch 4/10\n",
      "8627/8627 [==============================] - 2s 219us/sample - loss: 0.1304 - accuracy: 0.9510 - val_loss: 0.1104 - val_accuracy: 0.9560\n",
      "Epoch 5/10\n",
      "8627/8627 [==============================] - 2s 210us/sample - loss: 0.0962 - accuracy: 0.9644 - val_loss: 0.0905 - val_accuracy: 0.9724\n",
      "Epoch 6/10\n",
      "8627/8627 [==============================] - 2s 210us/sample - loss: 0.0460 - accuracy: 0.9835 - val_loss: 0.0533 - val_accuracy: 0.9816\n",
      "Epoch 7/10\n",
      "8627/8627 [==============================] - 2s 217us/sample - loss: 0.0282 - accuracy: 0.9904 - val_loss: 0.0513 - val_accuracy: 0.9869\n",
      "Epoch 8/10\n",
      "8627/8627 [==============================] - 2s 215us/sample - loss: 0.0275 - accuracy: 0.9903 - val_loss: 0.0368 - val_accuracy: 0.9875\n",
      "Epoch 9/10\n",
      "8627/8627 [==============================] - 2s 218us/sample - loss: 0.0170 - accuracy: 0.9944 - val_loss: 0.0885 - val_accuracy: 0.9770\n",
      "Epoch 10/10\n",
      "8627/8627 [==============================] - 2s 218us/sample - loss: 0.0119 - accuracy: 0.9968 - val_loss: 0.0182 - val_accuracy: 0.9967\n"
     ]
    }
   ],
   "source": [
    "history = model.fit(x_train, y_train, epochs=10, \n",
    "                    validation_data=(x_val, y_val))"
   ]
  },
  {
   "cell_type": "code",
   "execution_count": 779,
   "id": "tracked-leonard",
   "metadata": {},
   "outputs": [
    {
     "name": "stdout",
     "output_type": "stream",
     "text": [
      "1523/1523 - 0s - loss: 0.0182 - accuracy: 0.9967\n"
     ]
    },
    {
     "data": {
      "image/png": "[encoded data removed]",
      "text/plain": [
       "<Figure size 432x288 with 1 Axes>"
      ]
     },
     "metadata": {
      "needs_background": "light"
     },
     "output_type": "display_data"
    }
   ],
   "source": [
    "plt.plot(history.history['accuracy'], label='accuracy')\n",
    "plt.plot(history.history['val_accuracy'], label = 'val_accuracy')\n",
    "plt.xlabel('Epoch')\n",
    "plt.ylabel('Accuracy')\n",
    "plt.ylim([0.5, 1])\n",
    "plt.legend(loc='lower right')\n",
    "\n",
    "test_loss, test_acc = model.evaluate(x_val,  y_val, verbose=2)"
   ]
  },
  {
   "cell_type": "code",
   "execution_count": 780,
   "id": "forbidden-worcester",
   "metadata": {},
   "outputs": [
    {
     "name": "stdout",
     "output_type": "stream",
     "text": [
      "0.996717\n"
     ]
    }
   ],
   "source": [
    "print(test_acc)"
   ]
  },
  {
   "cell_type": "code",
   "execution_count": 781,
   "id": "powerful-election",
   "metadata": {},
   "outputs": [
    {
     "name": "stdout",
     "output_type": "stream",
     "text": [
      "Saved model to disk\n"
     ]
    }
   ],
   "source": [
    "model_json = model.to_json()\n",
    "with open(\"model.json\", \"w\") as json_file:\n",
    "    json_file.write(model_json)\n",
    "# serialize weights to HDF5\n",
    "model.save_weights(\"model.h5\")\n",
    "print(\"Saved model to disk\")"
   ]
  },
  {
   "cell_type": "code",
   "execution_count": 782,
   "id": "novel-portland",
   "metadata": {},
   "outputs": [],
   "source": [
    "config = model.to_json()\n",
    "loaded_model = tf.keras.models.model_from_json(config)"
   ]
  },
  {
   "cell_type": "code",
   "execution_count": 783,
   "id": "southeast-subsection",
   "metadata": {},
   "outputs": [],
   "source": [
    "from sklearn.metrics import roc_curve, auc\n",
    "y_pred=model.predict(x_val).ravel()"
   ]
  },
  {
   "cell_type": "code",
   "execution_count": 784,
   "id": "coastal-yacht",
   "metadata": {},
   "outputs": [
    {
     "data": {
      "text/plain": [
       "(1523,)"
      ]
     },
     "execution_count": 784,
     "metadata": {},
     "output_type": "execute_result"
    }
   ],
   "source": [
    "y_pred.shape"
   ]
  },
  {
   "cell_type": "code",
   "execution_count": 785,
   "id": "acting-auckland",
   "metadata": {},
   "outputs": [
    {
     "data": {
      "text/plain": [
       "(1523,)"
      ]
     },
     "execution_count": 785,
     "metadata": {},
     "output_type": "execute_result"
    }
   ],
   "source": [
    "y_val.shape"
   ]
  },
  {
   "cell_type": "code",
   "execution_count": 786,
   "id": "hindu-cycling",
   "metadata": {},
   "outputs": [
    {
     "data": {
      "text/plain": [
       "array([3.7671439e-03, 4.7569706e-06, 1.0000000e+00, ..., 3.3729310e-07,\n",
       "       1.0982680e-03, 1.0000000e+00], dtype=float32)"
      ]
     },
     "execution_count": 786,
     "metadata": {},
     "output_type": "execute_result"
    }
   ],
   "source": [
    "y_pred"
   ]
  },
  {
   "cell_type": "code",
   "execution_count": 787,
   "id": "respective-administration",
   "metadata": {},
   "outputs": [
    {
     "data": {
      "text/plain": [
       "array([0, 0, 0, ..., 1, 0, 1])"
      ]
     },
     "execution_count": 787,
     "metadata": {},
     "output_type": "execute_result"
    }
   ],
   "source": [
    "y_train"
   ]
  },
  {
   "cell_type": "code",
   "execution_count": 788,
   "id": "cardiovascular-grill",
   "metadata": {},
   "outputs": [
    {
     "name": "stdout",
     "output_type": "stream",
     "text": [
      "Imgs:  98\n"
     ]
    }
   ],
   "source": [
    "X_test=[]\n",
    "TC_path=r\"C:\\Users\\ADITYA\\Desktop\\AI\\Dsets\\NVIDIA\\test\\test\"\n",
    "files=os.listdir(TC_path)\n",
    "valid_images = [\".jpg\",\".gif\",\".png\",\".tga\"]\n",
    "for f in os.listdir(TC_path):\n",
    "    ext = os.path.splitext(f)[1]\n",
    "    if ext.lower() not in valid_images:\n",
    "        continue\n",
    "    im=Image.open(os.path.join(TC_path,f))\n",
    "    #im=im.convert(\"L\")\n",
    "    X_test.append((im.copy()))\n",
    "    #Y_train.append(1)\n",
    "print(\"Imgs: \",len(X_test))\n",
    "#print(\"tokens: \",len(Y_train))"
   ]
  },
  {
   "cell_type": "code",
   "execution_count": 789,
   "id": "genetic-louis",
   "metadata": {},
   "outputs": [],
   "source": [
    "for i in range(len(X_test)):\n",
    "    X_test[i]=ImageEnhance.Sharpness(X_test[i])\n",
    "    #x.enhance(6).show()####Seems fine....\n",
    "    X_test[i]=X_test[i].enhance(6)\n",
    "for i in range(len(X_test)):\n",
    "    X_test[i]=ImageEnhance.Brightness(X_test[i])\n",
    "    #x.enhance(6).show()####Seems fine....\n",
    "    X_test[i]=X_test[i].enhance(5)"
   ]
  },
  {
   "cell_type": "code",
   "execution_count": 790,
   "id": "diagnostic-suspension",
   "metadata": {},
   "outputs": [
    {
     "data": {
      "text/plain": [
       "(64, 64)"
      ]
     },
     "execution_count": 790,
     "metadata": {},
     "output_type": "execute_result"
    }
   ],
   "source": [
    "test_images=[]\n",
    "for x in X_test:\n",
    "    x=x.convert(\"L\")\n",
    "    test_images.append(np.array(x.copy()))\n",
    "test_images[0].shape"
   ]
  },
  {
   "cell_type": "code",
   "execution_count": 791,
   "id": "unique-damages",
   "metadata": {},
   "outputs": [],
   "source": [
    "for i in range(len(test_images)):\n",
    "    test_images[i]=test_images[i].astype('float32')/255"
   ]
  },
  {
   "cell_type": "code",
   "execution_count": 792,
   "id": "divine-starter",
   "metadata": {},
   "outputs": [],
   "source": [
    "test_images=np.array(test_images).reshape(-1, 64, 64, 1)"
   ]
  },
  {
   "cell_type": "code",
   "execution_count": 793,
   "id": "armed-gentleman",
   "metadata": {},
   "outputs": [],
   "source": [
    "y_test_pred=model.predict(test_images)"
   ]
  },
  {
   "cell_type": "code",
   "execution_count": 798,
   "id": "loved-password",
   "metadata": {},
   "outputs": [
    {
     "data": {
      "text/plain": [
       "array([[1.0000000e+00],\n",
       "       [2.5007965e-14],\n",
       "       [1.0000000e+00],\n",
       "       [3.2655056e-11],\n",
       "       [1.0000000e+00],\n",
       "       [4.1765791e-01],\n",
       "       [1.0000000e+00],\n",
       "       [3.8987582e-05],\n",
       "       [9.9999714e-01],\n",
       "       [1.9957742e-03],\n",
       "       [1.0000000e+00],\n",
       "       [2.5904060e-07],\n",
       "       [1.0000000e+00],\n",
       "       [1.0000000e+00],\n",
       "       [1.0000000e+00],\n",
       "       [1.0000000e+00],\n",
       "       [1.0000000e+00],\n",
       "       [1.0000000e+00],\n",
       "       [1.0000000e+00],\n",
       "       [1.3246763e-01],\n",
       "       [1.0000000e+00],\n",
       "       [1.0000000e+00],\n",
       "       [1.0000000e+00],\n",
       "       [1.0000000e+00],\n",
       "       [7.0627092e-04],\n",
       "       [8.5286396e-03],\n",
       "       [8.9936628e-04],\n",
       "       [5.6839088e-04],\n",
       "       [9.6488907e-04],\n",
       "       [2.5829519e-05],\n",
       "       [4.1875802e-07],\n",
       "       [3.2590136e-03],\n",
       "       [1.7446626e-10],\n",
       "       [2.1781844e-08],\n",
       "       [1.0000000e+00],\n",
       "       [5.3992677e-09],\n",
       "       [1.0000000e+00],\n",
       "       [4.1869088e-04],\n",
       "       [9.5102650e-01],\n",
       "       [1.9351020e-04],\n",
       "       [1.0000000e+00],\n",
       "       [8.8007715e-07],\n",
       "       [1.0000000e+00],\n",
       "       [5.7194135e-05],\n",
       "       [1.0000000e+00],\n",
       "       [1.0000000e+00],\n",
       "       [1.0000000e+00],\n",
       "       [1.0000000e+00],\n",
       "       [1.0000000e+00],\n",
       "       [1.0000000e+00],\n",
       "       [9.9999082e-01],\n",
       "       [2.1416044e-02],\n",
       "       [9.0951886e-05],\n",
       "       [1.0547498e-03],\n",
       "       [3.4172190e-03],\n",
       "       [9.1652583e-07],\n",
       "       [4.8084397e-04],\n",
       "       [1.0000000e+00],\n",
       "       [1.0000000e+00],\n",
       "       [1.0000000e+00],\n",
       "       [7.8906931e-05],\n",
       "       [5.0020996e-03],\n",
       "       [2.2499689e-03],\n",
       "       [1.0000000e+00],\n",
       "       [9.9758542e-01],\n",
       "       [1.0000000e+00],\n",
       "       [1.0000000e+00],\n",
       "       [9.7880667e-01],\n",
       "       [1.0000000e+00],\n",
       "       [1.0000000e+00],\n",
       "       [1.0000000e+00],\n",
       "       [4.2286841e-11],\n",
       "       [3.5671057e-04],\n",
       "       [2.4399753e-09],\n",
       "       [4.0428375e-07],\n",
       "       [2.6252112e-06],\n",
       "       [1.4618988e-07],\n",
       "       [3.0227800e-05],\n",
       "       [1.0694694e-05],\n",
       "       [1.0000000e+00],\n",
       "       [1.0000000e+00],\n",
       "       [1.0000000e+00],\n",
       "       [1.0000000e+00],\n",
       "       [2.7299384e-06],\n",
       "       [5.2085156e-08],\n",
       "       [3.8189287e-03],\n",
       "       [3.2892436e-07],\n",
       "       [2.7355771e-03],\n",
       "       [1.0000000e+00],\n",
       "       [1.0000000e+00],\n",
       "       [9.9869615e-01],\n",
       "       [1.0000000e+00],\n",
       "       [8.7780416e-01],\n",
       "       [1.0000000e+00],\n",
       "       [1.2448375e-02],\n",
       "       [6.8482017e-08],\n",
       "       [2.1351344e-04],\n",
       "       [1.5677298e-08]], dtype=float32)"
      ]
     },
     "execution_count": 798,
     "metadata": {},
     "output_type": "execute_result"
    }
   ],
   "source": [
    "y_test_pred"
   ]
  },
  {
   "cell_type": "code",
   "execution_count": 799,
   "id": "vertical-librarian",
   "metadata": {},
   "outputs": [],
   "source": [
    "y_test_pred=np.floor(y_test_pred)"
   ]
  },
  {
   "cell_type": "code",
   "execution_count": 802,
   "id": "ancient-production",
   "metadata": {},
   "outputs": [],
   "source": [
    "y_test_pred=y_test_pred.astype(int)"
   ]
  },
  {
   "cell_type": "code",
   "execution_count": 803,
   "id": "domestic-component",
   "metadata": {},
   "outputs": [
    {
     "data": {
      "text/plain": [
       "array([[1],\n",
       "       [0],\n",
       "       [1],\n",
       "       [0],\n",
       "       [1],\n",
       "       [0],\n",
       "       [1],\n",
       "       [0],\n",
       "       [0],\n",
       "       [0],\n",
       "       [1],\n",
       "       [0],\n",
       "       [1],\n",
       "       [1],\n",
       "       [1],\n",
       "       [1],\n",
       "       [1],\n",
       "       [1],\n",
       "       [1],\n",
       "       [0],\n",
       "       [1],\n",
       "       [1],\n",
       "       [1],\n",
       "       [1],\n",
       "       [0],\n",
       "       [0],\n",
       "       [0],\n",
       "       [0],\n",
       "       [0],\n",
       "       [0],\n",
       "       [0],\n",
       "       [0],\n",
       "       [0],\n",
       "       [0],\n",
       "       [1],\n",
       "       [0],\n",
       "       [1],\n",
       "       [0],\n",
       "       [0],\n",
       "       [0],\n",
       "       [1],\n",
       "       [0],\n",
       "       [1],\n",
       "       [0],\n",
       "       [1],\n",
       "       [1],\n",
       "       [1],\n",
       "       [1],\n",
       "       [1],\n",
       "       [1],\n",
       "       [0],\n",
       "       [0],\n",
       "       [0],\n",
       "       [0],\n",
       "       [0],\n",
       "       [0],\n",
       "       [0],\n",
       "       [1],\n",
       "       [1],\n",
       "       [1],\n",
       "       [0],\n",
       "       [0],\n",
       "       [0],\n",
       "       [1],\n",
       "       [0],\n",
       "       [1],\n",
       "       [1],\n",
       "       [0],\n",
       "       [1],\n",
       "       [1],\n",
       "       [1],\n",
       "       [0],\n",
       "       [0],\n",
       "       [0],\n",
       "       [0],\n",
       "       [0],\n",
       "       [0],\n",
       "       [0],\n",
       "       [0],\n",
       "       [1],\n",
       "       [1],\n",
       "       [1],\n",
       "       [1],\n",
       "       [0],\n",
       "       [0],\n",
       "       [0],\n",
       "       [0],\n",
       "       [0],\n",
       "       [1],\n",
       "       [1],\n",
       "       [0],\n",
       "       [1],\n",
       "       [0],\n",
       "       [1],\n",
       "       [0],\n",
       "       [0],\n",
       "       [0],\n",
       "       [0]])"
      ]
     },
     "execution_count": 803,
     "metadata": {},
     "output_type": "execute_result"
    }
   ],
   "source": [
    "y_test_pred"
   ]
  },
  {
   "cell_type": "code",
   "execution_count": 808,
   "id": "united-constant",
   "metadata": {},
   "outputs": [],
   "source": [
    "y_test_pred=y_test_pred.flatten()"
   ]
  },
  {
   "cell_type": "code",
   "execution_count": 809,
   "id": "governing-engine",
   "metadata": {},
   "outputs": [
    {
     "data": {
      "text/plain": [
       "(98,)"
      ]
     },
     "execution_count": 809,
     "metadata": {},
     "output_type": "execute_result"
    }
   ],
   "source": [
    "y_test_pred.shape"
   ]
  },
  {
   "cell_type": "code",
   "execution_count": 810,
   "id": "deadly-pathology",
   "metadata": {},
   "outputs": [
    {
     "data": {
      "text/plain": [
       "array([1, 0, 1, 0, 1, 0, 1, 0, 0, 0, 1, 0, 1, 1, 1, 1, 1, 1, 1, 0, 1, 1,\n",
       "       1, 1, 0, 0, 0, 0, 0, 0, 0, 0, 0, 0, 1, 0, 1, 0, 0, 0, 1, 0, 1, 0,\n",
       "       1, 1, 1, 1, 1, 1, 0, 0, 0, 0, 0, 0, 0, 1, 1, 1, 0, 0, 0, 1, 0, 1,\n",
       "       1, 0, 1, 1, 1, 0, 0, 0, 0, 0, 0, 0, 0, 1, 1, 1, 1, 0, 0, 0, 0, 0,\n",
       "       1, 1, 0, 1, 0, 1, 0, 0, 0, 0])"
      ]
     },
     "execution_count": 810,
     "metadata": {},
     "output_type": "execute_result"
    }
   ],
   "source": [
    "y_test_pred"
   ]
  },
  {
   "cell_type": "code",
   "execution_count": 813,
   "id": "clinical-wheel",
   "metadata": {},
   "outputs": [],
   "source": [
    "names=[]\n",
    "for i in range(98):\n",
    "    names.append(str(i+1)+'.png')"
   ]
  },
  {
   "cell_type": "code",
   "execution_count": 814,
   "id": "insured-fence",
   "metadata": {},
   "outputs": [
    {
     "data": {
      "text/plain": [
       "['1.png',\n",
       " '2.png',\n",
       " '3.png',\n",
       " '4.png',\n",
       " '5.png',\n",
       " '6.png',\n",
       " '7.png',\n",
       " '8.png',\n",
       " '9.png',\n",
       " '10.png',\n",
       " '11.png',\n",
       " '12.png',\n",
       " '13.png',\n",
       " '14.png',\n",
       " '15.png',\n",
       " '16.png',\n",
       " '17.png',\n",
       " '18.png',\n",
       " '19.png',\n",
       " '20.png',\n",
       " '21.png',\n",
       " '22.png',\n",
       " '23.png',\n",
       " '24.png',\n",
       " '25.png',\n",
       " '26.png',\n",
       " '27.png',\n",
       " '28.png',\n",
       " '29.png',\n",
       " '30.png',\n",
       " '31.png',\n",
       " '32.png',\n",
       " '33.png',\n",
       " '34.png',\n",
       " '35.png',\n",
       " '36.png',\n",
       " '37.png',\n",
       " '38.png',\n",
       " '39.png',\n",
       " '40.png',\n",
       " '41.png',\n",
       " '42.png',\n",
       " '43.png',\n",
       " '44.png',\n",
       " '45.png',\n",
       " '46.png',\n",
       " '47.png',\n",
       " '48.png',\n",
       " '49.png',\n",
       " '50.png',\n",
       " '51.png',\n",
       " '52.png',\n",
       " '53.png',\n",
       " '54.png',\n",
       " '55.png',\n",
       " '56.png',\n",
       " '57.png',\n",
       " '58.png',\n",
       " '59.png',\n",
       " '60.png',\n",
       " '61.png',\n",
       " '62.png',\n",
       " '63.png',\n",
       " '64.png',\n",
       " '65.png',\n",
       " '66.png',\n",
       " '67.png',\n",
       " '68.png',\n",
       " '69.png',\n",
       " '70.png',\n",
       " '71.png',\n",
       " '72.png',\n",
       " '73.png',\n",
       " '74.png',\n",
       " '75.png',\n",
       " '76.png',\n",
       " '77.png',\n",
       " '78.png',\n",
       " '79.png',\n",
       " '80.png',\n",
       " '81.png',\n",
       " '82.png',\n",
       " '83.png',\n",
       " '84.png',\n",
       " '85.png',\n",
       " '86.png',\n",
       " '87.png',\n",
       " '88.png',\n",
       " '89.png',\n",
       " '90.png',\n",
       " '91.png',\n",
       " '92.png',\n",
       " '93.png',\n",
       " '94.png',\n",
       " '95.png',\n",
       " '96.png',\n",
       " '97.png',\n",
       " '98.png']"
      ]
     },
     "execution_count": 814,
     "metadata": {},
     "output_type": "execute_result"
    }
   ],
   "source": [
    "names"
   ]
  },
  {
   "cell_type": "code",
   "execution_count": 834,
   "id": "tribal-supplement",
   "metadata": {},
   "outputs": [
    {
     "name": "stderr",
     "output_type": "stream",
     "text": [
      "C:\\Users\\ADITYA\\anaconda3\\envs\\world\\lib\\site-packages\\ipykernel_launcher.py:1: DeprecationWarning: tostring() is deprecated. Use tobytes() instead.\n",
      "  \"\"\"Entry point for launching an IPython kernel.\n"
     ]
    }
   ],
   "source": [
    "y_test_pred=y_test_pred.tostring()"
   ]
  },
  {
   "cell_type": "code",
   "execution_count": 835,
   "id": "convenient-community",
   "metadata": {},
   "outputs": [
    {
     "data": {
      "text/plain": [
       "{'1.png': 1,\n",
       " '2.png': 0,\n",
       " '3.png': 0,\n",
       " '4.png': 0,\n",
       " '5.png': 0,\n",
       " '6.png': 0,\n",
       " '7.png': 0,\n",
       " '8.png': 0,\n",
       " '9.png': 1,\n",
       " '10.png': 0,\n",
       " '11.png': 0,\n",
       " '12.png': 0,\n",
       " '13.png': 0,\n",
       " '14.png': 0,\n",
       " '15.png': 0,\n",
       " '16.png': 0,\n",
       " '17.png': 1,\n",
       " '18.png': 0,\n",
       " '19.png': 0,\n",
       " '20.png': 0,\n",
       " '21.png': 0,\n",
       " '22.png': 0,\n",
       " '23.png': 0,\n",
       " '24.png': 0,\n",
       " '25.png': 1,\n",
       " '26.png': 0,\n",
       " '27.png': 0,\n",
       " '28.png': 0,\n",
       " '29.png': 0,\n",
       " '30.png': 0,\n",
       " '31.png': 0,\n",
       " '32.png': 0,\n",
       " '33.png': 0,\n",
       " '34.png': 0,\n",
       " '35.png': 0,\n",
       " '36.png': 0,\n",
       " '37.png': 0,\n",
       " '38.png': 0,\n",
       " '39.png': 0,\n",
       " '40.png': 0,\n",
       " '41.png': 1,\n",
       " '42.png': 0,\n",
       " '43.png': 0,\n",
       " '44.png': 0,\n",
       " '45.png': 0,\n",
       " '46.png': 0,\n",
       " '47.png': 0,\n",
       " '48.png': 0,\n",
       " '49.png': 1,\n",
       " '50.png': 0,\n",
       " '51.png': 0,\n",
       " '52.png': 0,\n",
       " '53.png': 1,\n",
       " '54.png': 0,\n",
       " '55.png': 0,\n",
       " '56.png': 0,\n",
       " '57.png': 1,\n",
       " '58.png': 0,\n",
       " '59.png': 0,\n",
       " '60.png': 0,\n",
       " '61.png': 1,\n",
       " '62.png': 0,\n",
       " '63.png': 0,\n",
       " '64.png': 0,\n",
       " '65.png': 1,\n",
       " '66.png': 0,\n",
       " '67.png': 0,\n",
       " '68.png': 0,\n",
       " '69.png': 1,\n",
       " '70.png': 0,\n",
       " '71.png': 0,\n",
       " '72.png': 0,\n",
       " '73.png': 1,\n",
       " '74.png': 0,\n",
       " '75.png': 0,\n",
       " '76.png': 0,\n",
       " '77.png': 0,\n",
       " '78.png': 0,\n",
       " '79.png': 0,\n",
       " '80.png': 0,\n",
       " '81.png': 1,\n",
       " '82.png': 0,\n",
       " '83.png': 0,\n",
       " '84.png': 0,\n",
       " '85.png': 1,\n",
       " '86.png': 0,\n",
       " '87.png': 0,\n",
       " '88.png': 0,\n",
       " '89.png': 1,\n",
       " '90.png': 0,\n",
       " '91.png': 0,\n",
       " '92.png': 0,\n",
       " '93.png': 1,\n",
       " '94.png': 0,\n",
       " '95.png': 0,\n",
       " '96.png': 0,\n",
       " '97.png': 0,\n",
       " '98.png': 0}"
      ]
     },
     "execution_count": 835,
     "metadata": {},
     "output_type": "execute_result"
    }
   ],
   "source": [
    "result=dict(zip(names,y_test_pred))\n",
    "result\n"
   ]
  },
  {
   "cell_type": "code",
   "execution_count": 836,
   "id": "living-circus",
   "metadata": {},
   "outputs": [
    {
     "name": "stdout",
     "output_type": "stream",
     "text": [
      "{\"1.png\": 1, \"2.png\": 0, \"3.png\": 0, \"4.png\": 0, \"5.png\": 0, \"6.png\": 0, \"7.png\": 0, \"8.png\": 0, \"9.png\": 1, \"10.png\": 0, \"11.png\": 0, \"12.png\": 0, \"13.png\": 0, \"14.png\": 0, \"15.png\": 0, \"16.png\": 0, \"17.png\": 1, \"18.png\": 0, \"19.png\": 0, \"20.png\": 0, \"21.png\": 0, \"22.png\": 0, \"23.png\": 0, \"24.png\": 0, \"25.png\": 1, \"26.png\": 0, \"27.png\": 0, \"28.png\": 0, \"29.png\": 0, \"30.png\": 0, \"31.png\": 0, \"32.png\": 0, \"33.png\": 0, \"34.png\": 0, \"35.png\": 0, \"36.png\": 0, \"37.png\": 0, \"38.png\": 0, \"39.png\": 0, \"40.png\": 0, \"41.png\": 1, \"42.png\": 0, \"43.png\": 0, \"44.png\": 0, \"45.png\": 0, \"46.png\": 0, \"47.png\": 0, \"48.png\": 0, \"49.png\": 1, \"50.png\": 0, \"51.png\": 0, \"52.png\": 0, \"53.png\": 1, \"54.png\": 0, \"55.png\": 0, \"56.png\": 0, \"57.png\": 1, \"58.png\": 0, \"59.png\": 0, \"60.png\": 0, \"61.png\": 1, \"62.png\": 0, \"63.png\": 0, \"64.png\": 0, \"65.png\": 1, \"66.png\": 0, \"67.png\": 0, \"68.png\": 0, \"69.png\": 1, \"70.png\": 0, \"71.png\": 0, \"72.png\": 0, \"73.png\": 1, \"74.png\": 0, \"75.png\": 0, \"76.png\": 0, \"77.png\": 0, \"78.png\": 0, \"79.png\": 0, \"80.png\": 0, \"81.png\": 1, \"82.png\": 0, \"83.png\": 0, \"84.png\": 0, \"85.png\": 1, \"86.png\": 0, \"87.png\": 0, \"88.png\": 0, \"89.png\": 1, \"90.png\": 0, \"91.png\": 0, \"92.png\": 0, \"93.png\": 1, \"94.png\": 0, \"95.png\": 0, \"96.png\": 0, \"97.png\": 0, \"98.png\": 0}\n"
     ]
    }
   ],
   "source": [
    "import json\n",
    "jsonStr = json.dumps(result)\n",
    "print(jsonStr)"
   ]
  },
  {
   "cell_type": "code",
   "execution_count": null,
   "id": "casual-pitch",
   "metadata": {},
   "outputs": [],
   "source": []
  }
 ],
 "metadata": {
  "kernelspec": {
   "display_name": "Python 3",
   "language": "python",
   "name": "python3"
  },
  "language_info": {
   "codemirror_mode": {
    "name": "ipython",
    "version": 3
   },
   "file_extension": ".py",
   "mimetype": "text/x-python",
   "name": "python",
   "nbconvert_exporter": "python",
   "pygments_lexer": "ipython3",
   "version": "3.6.12"
  }
 },
 "nbformat": 4,
 "nbformat_minor": 5
}
